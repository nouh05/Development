{
  "cells": [
    {
      "cell_type": "markdown",
      "metadata": {
        "id": "view-in-github",
        "colab_type": "text"
      },
      "source": [
        "<a href=\"https://colab.research.google.com/github/nouh05/Development/blob/main/Copy_of_HW1_Linear.ipynb\" target=\"_parent\"><img src=\"https://colab.research.google.com/assets/colab-badge.svg\" alt=\"Open In Colab\"/></a>"
      ]
    },
    {
      "cell_type": "markdown",
      "metadata": {
        "id": "B4oKbqMWMpMN"
      },
      "source": [
        "# CS1470/2470 HW1: Single-Layered Neural Networks\n",
        "\n",
        "In this homework assignment, you will build a simple linear model using differential modules.\n",
        "\n",
        "---"
      ]
    },
    {
      "cell_type": "markdown",
      "metadata": {
        "id": "3CLyvlysHCK9"
      },
      "source": [
        "## Starting Our Modular API\n",
        "\n",
        "### **The goal of this assignment is as follows:** \n",
        "- Organize our understanding of deep learning into a modular framework. \n",
        "- Get familiarized with a simple modular API which reflects (but is a simplification of) some of PyTorch's systems. \n",
        "- Implement some nice modular components and be able to construct a functional single-file neural network from it. "
      ]
    },
    {
      "cell_type": "markdown",
      "metadata": {
        "id": "ZFUeG0msHRyo"
      },
      "source": [
        "### Improving The Old Way via Chain Rule\n",
        "\n",
        "Recall that in the machine learning lab, we got the chance to make some simple but effective regression models! Given some realizations $X \\sim \\mathcal{X}$ and $Y = \\mathbb{E}[Y|X] + \\xi$, we were able to train up a model $h_{\\theta} \\in \\mathcal{H}$ which was similar to $\\mathbb{E}[Y|X]$ and thereby minimized an empirical loss $\\mathcal{L}$ of our choice.\n",
        "\n",
        "> As a reminder, $\\mathcal{X}$ is the space of all candidate functions.\n",
        "\n",
        "In these cases, we assumed that $h_{\\theta}$ had a relatively simple and non-flexible architecture, which meant that we could manually specify the structure and simply derive and code up our gradient formula once. Furthermore, since the optimization process was concave, we could even skip the gradient computation and directly derive a loss-minimizing parameter selection. \n",
        "\n",
        "Of course, there are hard limits to what this kind of architecture can provide us; sometimes the relationships that the model needs to capture are relatively complex and might not be resolvable in such a fashion. And that's why this course exists!"
      ]
    },
    {
      "cell_type": "markdown",
      "metadata": {
        "id": "VmnuKJmCHmpg"
      },
      "source": [
        "#### **Problem:** \n",
        "> This is extremely time-consuming and rigid! What happens if we switched out an activation function? A loss function? We'd have to re-specify the gradient every time!\n",
        "\n",
        "#### **Solution:** \n",
        "> Let's take advantage of the chain rule! "
      ]
    },
    {
      "cell_type": "markdown",
      "metadata": {
        "id": "ecdHbe0xHb1o"
      },
      "source": [
        "**Naive Solution:** If we really wanted to, we could approach this problem in the same way as before, and just code up the gradient functions manually. Similarly to before, this would allow us to propagate gradients through, say, a specified loss function, an activation function, and a dense layer. We could also do it for 2 dense layers; just use the old gradient function for the weights in layer 2, compute the new gradient for the weights in layer 1, and so on. "
      ]
    },
    {
      "cell_type": "markdown",
      "metadata": {
        "id": "OTfm_9fmHkhE"
      },
      "source": [
        "Recall that per the chain rule, if there exists a set of differentiable functions $c(b)$ and $b(a)$, then \n",
        "\n",
        "$$\\frac{\\partial a}{\\partial c} = \\frac{\\partial a}{\\partial b} \\frac{\\partial b}{\\partial c}$$\n",
        "\n",
        "Going back to our regression model, let's assume that we have a layered process: \n",
        "\n",
        "$$x \\to h_\\theta(x) \\to \\mathcal{L}(h_\\theta)$$\n",
        "\n",
        "This implies that we can compute the partial of the trainable parameters $\\theta$ through a loss evaluation $\\mathcal{L}$ and a dense layer $h_\\theta(x)$ by the following relationship:\n",
        "\n",
        "$$\\frac{\\partial \\mathcal{L}}{\\partial \\theta} = \\frac{\\partial \\mathcal{h_\\theta}}{\\partial \\theta}\\frac{\\partial \\mathcal{L}}{\\partial h_\\theta}$$\n",
        "\n",
        "With a similar logic, you can also make the assertion that you can also get the partial with respect to the input $x$:\n",
        "\n",
        "$$\\frac{\\partial \\mathcal{L}}{\\partial x} = \\frac{\\partial h_\\theta}{\\partial x}\\frac{\\partial \\mathcal{L}}{\\partial h_\\theta}$$\n",
        "\n",
        "So... by the same token, is there anything stopping us from going further? Let's say that we decided to have another hypothesis function such that $x = h'_{\\theta'}(x')$ for some other hypothesis function and inputs? The new structure would then be: \n",
        "\n",
        "$$x' \\to \\big[ x = h'_{\\theta'}(x') \\big] \\to h_\\theta(x) \\to \\mathcal{L}(h_\\theta)$$\n",
        "\n",
        "Without the chain rule, coding in the facilities to optimize $\\theta'$ might have been tricky, but with the chain rule we know that:\n",
        "\n",
        "$$\\frac{\\partial \\mathcal{L}}{\\partial \\theta'} \n",
        "= \\frac{\\partial x}{\\partial \\theta'}\\frac{\\partial h}{\\partial x}\\frac{\\partial \\mathcal{L}}{\\partial h} \n",
        "= \\frac{\\partial x}{\\partial \\theta'}\\frac{\\partial \\mathcal{L}}{\\partial x}$$"
      ]
    },
    {
      "cell_type": "markdown",
      "metadata": {
        "id": "UUJfaOFpIJbD"
      },
      "source": [
        "Notice how this process is both predictable and scales very well! Say that we wanted to add some activation functions to restrict the range of the hypothesis functions. This trivially inserts into the chain and everything still works and will look something like this: \n",
        "\n",
        "$$ \\frac{\\partial \\mathcal{L}}{\\partial x} = \\frac{\\partial h}{\\partial x}\\frac{\\partial a}{\\partial h}\\frac{\\partial \\mathcal{L}}{\\partial a} \n",
        "\\ \\text{ and } \\ \\frac{\\partial \\mathcal{L}}{\\partial \\theta} = \\frac{\\partial h}{\\partial \\theta}\\frac{\\partial a}{\\partial h}\\frac{\\partial \\mathcal{L}}{\\partial a} \n",
        "$$"
      ]
    },
    {
      "cell_type": "markdown",
      "metadata": {
        "id": "KVyTXT5TIOsz"
      },
      "source": [
        "And with that, we start to approach the reason why this is such a powerful formulation: The cumulative nature of the process. Specifically, consider the process that needs to happen in order to compute this for the extended 2-layer example: \n",
        "\n",
        "$$\n",
        "\\begin{align}\n",
        "\\frac{\\partial a}{\\partial h}\\frac{\\partial \\mathcal{L}}{\\partial a} \n",
        "= \\frac{\\partial \\mathcal{L}}{\\partial h} \n",
        "&\\to \\cdots = \\frac{\\partial \\mathcal{L}}{\\partial x} \n",
        "&\\to \\cdots = \\frac{\\partial \\mathcal{L}}{\\partial a'}\n",
        "&\\to \\cdots = \\frac{\\partial \\mathcal{L}}{\\partial h'} \n",
        "&\\to \\cdots = \\frac{\\partial \\mathcal{L}}{\\partial x'} \n",
        "\\\\\n",
        "&\\searrow \\cdots = \\frac{\\partial \\mathcal{L}}{\\partial \\theta} \n",
        "&&&\\searrow \\cdots = \\frac{\\partial \\mathcal{L}}{\\partial \\theta'} \n",
        "% \\\\\n",
        "% &\\searrow \\cdots = \\frac{\\partial \\mathcal{L}}{\\partial \\theta} \n",
        "% \\to \\cdots = \\frac{\\partial \\mathcal{L}}{\\partial a'} \n",
        "% \\to \\cdots = \\frac{\\partial \\mathcal{L}}{\\partial h'} \n",
        "% &\n",
        "% \\to \\cdots = \\frac{\\partial \\mathcal{L}}{\\partial \\theta'} \n",
        "% \\\\ \n",
        "% &&\n",
        "% \\to \\cdots = \\frac{\\partial \\mathcal{L}}{\\partial x'} \n",
        "\\end{align}\n",
        "$$\n",
        "\n",
        "... and this is the process known as **back-propagation** *(and a special case of **auto-differentiation**)*!"
      ]
    },
    {
      "cell_type": "markdown",
      "metadata": {
        "id": "fdK16iXOVgta"
      },
      "source": [
        "-----"
      ]
    },
    {
      "cell_type": "markdown",
      "metadata": {
        "id": "MhgMs3u_S1OU"
      },
      "source": [
        "## Loading In Our Data"
      ]
    },
    {
      "cell_type": "markdown",
      "metadata": {
        "id": "tV7vjVbTf9Xg"
      },
      "source": [
        "The first thing we have to do is load in our data to use our model with. We'll be working with the [diabetes dataset from the sklearn package](https://scikit-learn.org/stable/datasets/toy_dataset.html#diabetes-dataset). We've already provided the code to load in the input data and the ground truth labels (stored as `X` and `Y` respectively below).\n",
        "\n",
        "**[TODO]:** Split the samples into training and testing sets. We'll train with the train set and reserve the testing set to evaluate the model's performance on samples it hasn't seen.\n",
        "\n",
        "The diabetes dataset has 442 samples. Each sample's input data has 10 data points for some key metrics, like age and cholesterol levels. The \"label\" is a number representing disease progression one year after baseline. Thus, `X` has shape `(442, 10)`, while `Y` has shape `(442,)`.\n",
        "\n",
        "**[TODO]:** Reshape the `Y` subsets to have shape `(num_samples, 1)`."
      ]
    },
    {
      "cell_type": "code",
      "execution_count": null,
      "metadata": {
        "colab": {
          "base_uri": "https://localhost:8080/"
        },
        "id": "gytrDuxV5gFO",
        "outputId": "9e794947-1972-461c-f442-8412ac1b7281"
      },
      "outputs": [
        {
          "output_type": "stream",
          "name": "stdout",
          "text": [
            "> Input shape: (353, 10) for training, (89, 10) for testing\n",
            "> Label shape: (353, 1) for training, (1, 1) for testing\n"
          ]
        }
      ],
      "source": [
        "import numpy as np\n",
        "from sklearn.datasets import load_diabetes\n",
        "from sklearn.model_selection import train_test_split\n",
        "diabetes = load_diabetes()\n",
        "X, Y = diabetes.data, diabetes.target\n",
        "\n",
        "## TODO: Split the data into a 80%-20% training-testing split\n",
        "## TODO: Reshape the Y subsets to have shape (num_samples, 1)\n",
        "X0 = X[0:int(len(X)*0.80)]\n",
        "X1 = X[int(len(X)*0.80):]\n",
        "#same for Y\n",
        "Y0 = Y[0:int(len(Y)*0.80)]\n",
        "Y1 = Y[int(len(Y)*0.80)]\n",
        "Y0 = Y0.reshape(-1,1)\n",
        "Y1 = Y1.reshape(-1,1)\n",
        "print(f\"\"\"\n",
        "> Input shape: {X0.shape} for training, {X1.shape} for testing\n",
        "> Label shape: {Y0.shape} for training, {Y1.shape} for testing\n",
        "\"\"\".strip())"
      ]
    },
    {
      "cell_type": "markdown",
      "metadata": {
        "id": "CIYU_639VgHq"
      },
      "source": [
        "## **Exploring a possible modular implementation: PyTorch**"
      ]
    },
    {
      "cell_type": "markdown",
      "metadata": {
        "id": "YHs57_36jfDL"
      },
      "source": [
        "Next, we'll want to build up a Regression model interface, from which we can implement specific regression model classes, like the LinearRegression class we'll work with later. \n",
        "\n",
        "We subclass the `nn.Module class`, which represents any module (like a layer or model) of a deep learning system."
      ]
    },
    {
      "cell_type": "code",
      "execution_count": null,
      "metadata": {
        "id": "DG6vkwv5chPg"
      },
      "outputs": [],
      "source": [
        "import torch\n",
        "import torch.nn as nn\n",
        "\n",
        "class Regression(nn.Module):\n",
        "\n",
        "    \"\"\"\n",
        "    Initialize all the inherent \"things\" inside of a model!\n",
        "    This includes things like the layers, activation/loss functions, and optimzer. \n",
        "    \"\"\"\n",
        "    def __init__(self, input_dims, output_dims):\n",
        "        self.device = torch.device(\"cuda:0\" if torch.cuda.is_available() else \"cpu\")        \n",
        "        super().__init__()\n",
        "        self.dense = nn.Linear(input_dims, output_dims).to(self.device)   \n",
        "        self.activation = None  ## To be specified in subclasses \n",
        "        self.loss = None        ## To be specified in subclasses \n",
        "        self.set_learning_rate()\n",
        "\n",
        "    \"\"\"\n",
        "    Sets up the optmizer\n",
        "    \"\"\"\n",
        "    def set_learning_rate(self, learning_rate=0.001):\n",
        "        self.optimizer = torch.optim.SGD(self.parameters(), lr=learning_rate) ## Simple stochastic gradient descent (SGD) optimizer\n",
        "\n",
        "    \"\"\"\n",
        "    Forward pass of the model\n",
        "    Given an input x, how does the model process the input to get its output?\n",
        "    \"\"\"\n",
        "    def forward(self, x):\n",
        "        x = self.dense(x)\n",
        "        x = self.activation(x)\n",
        "        return x\n"
      ]
    },
    {
      "cell_type": "markdown",
      "metadata": {
        "id": "rTzEFlA0TFZB"
      },
      "source": [
        "## Adding a PyTorch Training/Evaluation Routine"
      ]
    },
    {
      "cell_type": "markdown",
      "metadata": {
        "id": "JBSK640PoDWX"
      },
      "source": [
        "Now that we have the basis for a Regression model, we need to describe how to train (`fit`) and evaluate (`evaluate`) our model, given data. \n",
        "Every epoch, we want to fit our model to the training data, and then evaluate our model on the testing data."
      ]
    },
    {
      "cell_type": "code",
      "execution_count": null,
      "metadata": {
        "id": "aUetVEGtS9k9"
      },
      "outputs": [],
      "source": [
        "class TrainTest:\n",
        "\n",
        "    no_grad = torch.no_grad\n",
        "\n",
        "    def fit(self, data):\n",
        "        ## Training loop\n",
        "        self.train()        ## Set model into training mode\n",
        "        ## Iterate over the data batches\n",
        "        for batch, (inputs, target) in enumerate(data):\n",
        "            ## In real pytorch, you'd need to set the device\n",
        "            inputs = inputs.to(self.device)\n",
        "            target = target.to(self.device)\n",
        "            ## Erase the gradient history\n",
        "            self.optimizer.zero_grad()\n",
        "            ## Do a forward pass on the model\n",
        "            output = self(inputs)\n",
        "            ## Compute the loss\n",
        "            loss = self.loss(output, target)\n",
        "            ## Run backwards pass from the loss through the previous layers\n",
        "            ## This will accumulate gradients for the parameters that need to be optimized\n",
        "            loss.backward()\n",
        "            ## Perform a single optimization step\n",
        "            self.optimizer.step()\n",
        "        return {'loss' : loss}\n",
        "\n",
        "    def evaluate(self, data):\n",
        "        ## Set model into \"evaluate\" mode so that the parameters don't get updated\n",
        "        self.eval()\n",
        "        total_loss = 0\n",
        "        ## Cut off the tensor training scope to make sure weights aren't updated\n",
        "        ## For now, it's torch.no_grad; later, you'll use Tensor.no_grad\n",
        "        with TrainTest.no_grad():\n",
        "            for inputs, target in data:\n",
        "                ## In real pytorch, you'd need to set the device\n",
        "                inputs = inputs.to(self.device)\n",
        "                target = target.to(self.device)\n",
        "                output = self(inputs)\n",
        "                total_loss += self.loss(output, target).item()  # sum up batch loss\n",
        "\n",
        "        total_loss /= len(data)\n",
        "        return {'test_loss' : total_loss}\n",
        "        \n",
        "    def train_test(self, train_data, test_data, epochs=1):\n",
        "        ## Does both training and validation on a per-epoch basis\n",
        "        all_stats = []\n",
        "        for epoch in range(epochs):\n",
        "            train_stats = self.fit(train_data)\n",
        "            test_stats = self.evaluate(test_data)\n",
        "            all_stats += [{**train_stats, **test_stats}]\n",
        "            print(f'[Epoch {epoch+1}/{epochs}]', all_stats[-1])\n",
        "        return all_stats"
      ]
    },
    {
      "cell_type": "markdown",
      "metadata": {
        "id": "YDNhzYnUTNMa"
      },
      "source": [
        "## Making Linear Regression with Train/Test Capabilities"
      ]
    },
    {
      "cell_type": "markdown",
      "metadata": {
        "id": "njv7q2UTTgQE"
      },
      "source": [
        "Next, we implement the `LinearRegression` class, which subclasses both `Regression` and `TrainTest` to inherit useful methods. \n",
        "\n",
        "Consider a dense layer represented by $Y = XA + B$ where: \n",
        "- $X$ has shape `(n,input_dims)`\n",
        "- $A$ has shape `(input_dims,output_dims)`\n",
        "- $B$ has shape `(n,)`\n",
        "- $Y$ has shape `(n, output_dims)`. \n",
        "\n",
        "Let each row of $X, B, Y$ (or the 0$^\\text{th}$ dimension) represent a different sample. Disregarding bias, note how any given row in $Y$ is a set of linear combinations of the same row in $X$. In other words, a Dense Layer is high-dimensional Linear Regression. \n",
        "\n",
        "Once you've built up your model, try training and testing it in the code block below!"
      ]
    },
    {
      "cell_type": "code",
      "execution_count": null,
      "metadata": {
        "id": "gYU8NKSdTc4W"
      },
      "outputs": [],
      "source": [
        "class LinearRegression(Regression, TrainTest):\n",
        "    def __init__(self, input_dims, output_dims):\n",
        "        super().__init__(input_dims, output_dims)\n",
        "        self.activation = nn.Identity()\n",
        "        self.loss = nn.MSELoss()"
      ]
    },
    {
      "cell_type": "code",
      "execution_count": null,
      "metadata": {
        "colab": {
          "base_uri": "https://localhost:8080/"
        },
        "id": "FBUaTs3N_hmn",
        "outputId": "4d56f675-3ed5-428c-81da-3f1629c7d679"
      },
      "outputs": [
        {
          "output_type": "stream",
          "name": "stderr",
          "text": [
            "/usr/local/lib/python3.8/dist-packages/torch/nn/modules/loss.py:536: UserWarning: Using a target size (torch.Size([1, 1])) that is different to the input size (torch.Size([89, 1])). This will likely lead to incorrect results due to broadcasting. Please ensure they have the same size.\n",
            "  return F.mse_loss(input, target, reduction=self.reduction)\n"
          ]
        },
        {
          "output_type": "stream",
          "name": "stdout",
          "text": [
            "[Epoch 1/200] {'loss': tensor(28731.0254, grad_fn=<MseLossBackward0>), 'test_loss': 327.0838623046875}\n",
            "[Epoch 2/200] {'loss': tensor(9448.9775, grad_fn=<MseLossBackward0>), 'test_loss': 333.8185119628906}\n",
            "[Epoch 3/200] {'loss': tensor(6344.9116, grad_fn=<MseLossBackward0>), 'test_loss': 1076.9208984375}\n",
            "[Epoch 4/200] {'loss': tensor(5829.4937, grad_fn=<MseLossBackward0>), 'test_loss': 1493.274169921875}\n",
            "[Epoch 5/200] {'loss': tensor(5728.4424, grad_fn=<MseLossBackward0>), 'test_loss': 1679.53564453125}\n",
            "[Epoch 6/200] {'loss': tensor(5693.8730, grad_fn=<MseLossBackward0>), 'test_loss': 1757.8907470703125}\n",
            "[Epoch 7/200] {'loss': tensor(5670.1226, grad_fn=<MseLossBackward0>), 'test_loss': 1790.588134765625}\n",
            "[Epoch 8/200] {'loss': tensor(5648.2827, grad_fn=<MseLossBackward0>), 'test_loss': 1804.6666259765625}\n",
            "[Epoch 9/200] {'loss': tensor(5626.9272, grad_fn=<MseLossBackward0>), 'test_loss': 1811.2864990234375}\n",
            "[Epoch 10/200] {'loss': tensor(5605.8247, grad_fn=<MseLossBackward0>), 'test_loss': 1814.96630859375}\n",
            "[Epoch 11/200] {'loss': tensor(5584.9370, grad_fn=<MseLossBackward0>), 'test_loss': 1817.5211181640625}\n",
            "[Epoch 12/200] {'loss': tensor(5564.2559, grad_fn=<MseLossBackward0>), 'test_loss': 1819.67626953125}\n",
            "[Epoch 13/200] {'loss': tensor(5543.7783, grad_fn=<MseLossBackward0>), 'test_loss': 1821.7254638671875}\n",
            "[Epoch 14/200] {'loss': tensor(5523.5020, grad_fn=<MseLossBackward0>), 'test_loss': 1823.78076171875}\n",
            "[Epoch 15/200] {'loss': tensor(5503.4248, grad_fn=<MseLossBackward0>), 'test_loss': 1825.8878173828125}\n",
            "[Epoch 16/200] {'loss': tensor(5483.5444, grad_fn=<MseLossBackward0>), 'test_loss': 1828.0660400390625}\n",
            "[Epoch 17/200] {'loss': tensor(5463.8589, grad_fn=<MseLossBackward0>), 'test_loss': 1830.31884765625}\n",
            "[Epoch 18/200] {'loss': tensor(5444.3667, grad_fn=<MseLossBackward0>), 'test_loss': 1832.6505126953125}\n",
            "[Epoch 19/200] {'loss': tensor(5425.0645, grad_fn=<MseLossBackward0>), 'test_loss': 1835.0579833984375}\n",
            "[Epoch 20/200] {'loss': tensor(5405.9512, grad_fn=<MseLossBackward0>), 'test_loss': 1837.5426025390625}\n",
            "[Epoch 21/200] {'loss': tensor(5387.0239, grad_fn=<MseLossBackward0>), 'test_loss': 1840.101806640625}\n",
            "[Epoch 22/200] {'loss': tensor(5368.2812, grad_fn=<MseLossBackward0>), 'test_loss': 1842.735595703125}\n",
            "[Epoch 23/200] {'loss': tensor(5349.7222, grad_fn=<MseLossBackward0>), 'test_loss': 1845.4423828125}\n",
            "[Epoch 24/200] {'loss': tensor(5331.3428, grad_fn=<MseLossBackward0>), 'test_loss': 1848.2203369140625}\n",
            "[Epoch 25/200] {'loss': tensor(5313.1431, grad_fn=<MseLossBackward0>), 'test_loss': 1851.06884765625}\n",
            "[Epoch 26/200] {'loss': tensor(5295.1196, grad_fn=<MseLossBackward0>), 'test_loss': 1853.985107421875}\n",
            "[Epoch 27/200] {'loss': tensor(5277.2710, grad_fn=<MseLossBackward0>), 'test_loss': 1856.9698486328125}\n",
            "[Epoch 28/200] {'loss': tensor(5259.5957, grad_fn=<MseLossBackward0>), 'test_loss': 1860.0201416015625}\n",
            "[Epoch 29/200] {'loss': tensor(5242.0923, grad_fn=<MseLossBackward0>), 'test_loss': 1863.1361083984375}\n",
            "[Epoch 30/200] {'loss': tensor(5224.7573, grad_fn=<MseLossBackward0>), 'test_loss': 1866.31689453125}\n",
            "[Epoch 31/200] {'loss': tensor(5207.5903, grad_fn=<MseLossBackward0>), 'test_loss': 1869.560791015625}\n",
            "[Epoch 32/200] {'loss': tensor(5190.5894, grad_fn=<MseLossBackward0>), 'test_loss': 1872.8658447265625}\n",
            "[Epoch 33/200] {'loss': tensor(5173.7520, grad_fn=<MseLossBackward0>), 'test_loss': 1876.230712890625}\n",
            "[Epoch 34/200] {'loss': tensor(5157.0776, grad_fn=<MseLossBackward0>), 'test_loss': 1879.6553955078125}\n",
            "[Epoch 35/200] {'loss': tensor(5140.5640, grad_fn=<MseLossBackward0>), 'test_loss': 1883.1390380859375}\n",
            "[Epoch 36/200] {'loss': tensor(5124.2080, grad_fn=<MseLossBackward0>), 'test_loss': 1886.6802978515625}\n",
            "[Epoch 37/200] {'loss': tensor(5108.0103, grad_fn=<MseLossBackward0>), 'test_loss': 1890.2769775390625}\n",
            "[Epoch 38/200] {'loss': tensor(5091.9673, grad_fn=<MseLossBackward0>), 'test_loss': 1893.92919921875}\n",
            "[Epoch 39/200] {'loss': tensor(5076.0791, grad_fn=<MseLossBackward0>), 'test_loss': 1897.6348876953125}\n",
            "[Epoch 40/200] {'loss': tensor(5060.3428, grad_fn=<MseLossBackward0>), 'test_loss': 1901.3939208984375}\n",
            "[Epoch 41/200] {'loss': tensor(5044.7568, grad_fn=<MseLossBackward0>), 'test_loss': 1905.20556640625}\n",
            "[Epoch 42/200] {'loss': tensor(5029.3203, grad_fn=<MseLossBackward0>), 'test_loss': 1909.0673828125}\n",
            "[Epoch 43/200] {'loss': tensor(5014.0303, grad_fn=<MseLossBackward0>), 'test_loss': 1912.9794921875}\n",
            "[Epoch 44/200] {'loss': tensor(4998.8867, grad_fn=<MseLossBackward0>), 'test_loss': 1916.9410400390625}\n",
            "[Epoch 45/200] {'loss': tensor(4983.8882, grad_fn=<MseLossBackward0>), 'test_loss': 1920.949951171875}\n",
            "[Epoch 46/200] {'loss': tensor(4969.0317, grad_fn=<MseLossBackward0>), 'test_loss': 1925.00634765625}\n",
            "[Epoch 47/200] {'loss': tensor(4954.3169, grad_fn=<MseLossBackward0>), 'test_loss': 1929.109375}\n",
            "[Epoch 48/200] {'loss': tensor(4939.7412, grad_fn=<MseLossBackward0>), 'test_loss': 1933.2567138671875}\n",
            "[Epoch 49/200] {'loss': tensor(4925.3047, grad_fn=<MseLossBackward0>), 'test_loss': 1937.44873046875}\n",
            "[Epoch 50/200] {'loss': tensor(4911.0044, grad_fn=<MseLossBackward0>), 'test_loss': 1941.68359375}\n",
            "[Epoch 51/200] {'loss': tensor(4896.8394, grad_fn=<MseLossBackward0>), 'test_loss': 1945.9610595703125}\n",
            "[Epoch 52/200] {'loss': tensor(4882.8086, grad_fn=<MseLossBackward0>), 'test_loss': 1950.28076171875}\n",
            "[Epoch 53/200] {'loss': tensor(4868.9106, grad_fn=<MseLossBackward0>), 'test_loss': 1954.6414794921875}\n",
            "[Epoch 54/200] {'loss': tensor(4855.1436, grad_fn=<MseLossBackward0>), 'test_loss': 1959.0416259765625}\n",
            "[Epoch 55/200] {'loss': tensor(4841.5063, grad_fn=<MseLossBackward0>), 'test_loss': 1963.480712890625}\n",
            "[Epoch 56/200] {'loss': tensor(4827.9976, grad_fn=<MseLossBackward0>), 'test_loss': 1967.9586181640625}\n",
            "[Epoch 57/200] {'loss': tensor(4814.6152, grad_fn=<MseLossBackward0>), 'test_loss': 1972.4732666015625}\n",
            "[Epoch 58/200] {'loss': tensor(4801.3594, grad_fn=<MseLossBackward0>), 'test_loss': 1977.0247802734375}\n",
            "[Epoch 59/200] {'loss': tensor(4788.2275, grad_fn=<MseLossBackward0>), 'test_loss': 1981.611083984375}\n",
            "[Epoch 60/200] {'loss': tensor(4775.2183, grad_fn=<MseLossBackward0>), 'test_loss': 1986.2327880859375}\n",
            "[Epoch 61/200] {'loss': tensor(4762.3320, grad_fn=<MseLossBackward0>), 'test_loss': 1990.889404296875}\n",
            "[Epoch 62/200] {'loss': tensor(4749.5649, grad_fn=<MseLossBackward0>), 'test_loss': 1995.57958984375}\n",
            "[Epoch 63/200] {'loss': tensor(4736.9170, grad_fn=<MseLossBackward0>), 'test_loss': 2000.3016357421875}\n",
            "[Epoch 64/200] {'loss': tensor(4724.3882, grad_fn=<MseLossBackward0>), 'test_loss': 2005.0560302734375}\n",
            "[Epoch 65/200] {'loss': tensor(4711.9751, grad_fn=<MseLossBackward0>), 'test_loss': 2009.840576171875}\n",
            "[Epoch 66/200] {'loss': tensor(4699.6772, grad_fn=<MseLossBackward0>), 'test_loss': 2014.6561279296875}\n",
            "[Epoch 67/200] {'loss': tensor(4687.4951, grad_fn=<MseLossBackward0>), 'test_loss': 2019.501708984375}\n",
            "[Epoch 68/200] {'loss': tensor(4675.4248, grad_fn=<MseLossBackward0>), 'test_loss': 2024.376953125}\n",
            "[Epoch 69/200] {'loss': tensor(4663.4663, grad_fn=<MseLossBackward0>), 'test_loss': 2029.2796630859375}\n",
            "[Epoch 70/200] {'loss': tensor(4651.6191, grad_fn=<MseLossBackward0>), 'test_loss': 2034.210205078125}\n",
            "[Epoch 71/200] {'loss': tensor(4639.8809, grad_fn=<MseLossBackward0>), 'test_loss': 2039.168212890625}\n",
            "[Epoch 72/200] {'loss': tensor(4628.2505, grad_fn=<MseLossBackward0>), 'test_loss': 2044.1517333984375}\n",
            "[Epoch 73/200] {'loss': tensor(4616.7285, grad_fn=<MseLossBackward0>), 'test_loss': 2049.160888671875}\n",
            "[Epoch 74/200] {'loss': tensor(4605.3125, grad_fn=<MseLossBackward0>), 'test_loss': 2054.19580078125}\n",
            "[Epoch 75/200] {'loss': tensor(4594.0010, grad_fn=<MseLossBackward0>), 'test_loss': 2059.25537109375}\n",
            "[Epoch 76/200] {'loss': tensor(4582.7930, grad_fn=<MseLossBackward0>), 'test_loss': 2064.338134765625}\n",
            "[Epoch 77/200] {'loss': tensor(4571.6890, grad_fn=<MseLossBackward0>), 'test_loss': 2069.444091796875}\n",
            "[Epoch 78/200] {'loss': tensor(4560.6855, grad_fn=<MseLossBackward0>), 'test_loss': 2074.5712890625}\n",
            "[Epoch 79/200] {'loss': tensor(4549.7827, grad_fn=<MseLossBackward0>), 'test_loss': 2079.721435546875}\n",
            "[Epoch 80/200] {'loss': tensor(4538.9810, grad_fn=<MseLossBackward0>), 'test_loss': 2084.892822265625}\n",
            "[Epoch 81/200] {'loss': tensor(4528.2759, grad_fn=<MseLossBackward0>), 'test_loss': 2090.085205078125}\n",
            "[Epoch 82/200] {'loss': tensor(4517.6694, grad_fn=<MseLossBackward0>), 'test_loss': 2095.297119140625}\n",
            "[Epoch 83/200] {'loss': tensor(4507.1592, grad_fn=<MseLossBackward0>), 'test_loss': 2100.529052734375}\n",
            "[Epoch 84/200] {'loss': tensor(4496.7441, grad_fn=<MseLossBackward0>), 'test_loss': 2105.77978515625}\n",
            "[Epoch 85/200] {'loss': tensor(4486.4248, grad_fn=<MseLossBackward0>), 'test_loss': 2111.05029296875}\n",
            "[Epoch 86/200] {'loss': tensor(4476.1973, grad_fn=<MseLossBackward0>), 'test_loss': 2116.336669921875}\n",
            "[Epoch 87/200] {'loss': tensor(4466.0635, grad_fn=<MseLossBackward0>), 'test_loss': 2121.6416015625}\n",
            "[Epoch 88/200] {'loss': tensor(4456.0205, grad_fn=<MseLossBackward0>), 'test_loss': 2126.962158203125}\n",
            "[Epoch 89/200] {'loss': tensor(4446.0688, grad_fn=<MseLossBackward0>), 'test_loss': 2132.29931640625}\n",
            "[Epoch 90/200] {'loss': tensor(4436.2065, grad_fn=<MseLossBackward0>), 'test_loss': 2137.65283203125}\n",
            "[Epoch 91/200] {'loss': tensor(4426.4326, grad_fn=<MseLossBackward0>), 'test_loss': 2143.021484375}\n",
            "[Epoch 92/200] {'loss': tensor(4416.7466, grad_fn=<MseLossBackward0>), 'test_loss': 2148.406005859375}\n",
            "[Epoch 93/200] {'loss': tensor(4407.1475, grad_fn=<MseLossBackward0>), 'test_loss': 2153.803466796875}\n",
            "[Epoch 94/200] {'loss': tensor(4397.6353, grad_fn=<MseLossBackward0>), 'test_loss': 2159.21484375}\n",
            "[Epoch 95/200] {'loss': tensor(4388.2070, grad_fn=<MseLossBackward0>), 'test_loss': 2164.640625}\n",
            "[Epoch 96/200] {'loss': tensor(4378.8638, grad_fn=<MseLossBackward0>), 'test_loss': 2170.07763671875}\n",
            "[Epoch 97/200] {'loss': tensor(4369.6030, grad_fn=<MseLossBackward0>), 'test_loss': 2175.52783203125}\n",
            "[Epoch 98/200] {'loss': tensor(4360.4248, grad_fn=<MseLossBackward0>), 'test_loss': 2180.98974609375}\n",
            "[Epoch 99/200] {'loss': tensor(4351.3286, grad_fn=<MseLossBackward0>), 'test_loss': 2186.462890625}\n",
            "[Epoch 100/200] {'loss': tensor(4342.3135, grad_fn=<MseLossBackward0>), 'test_loss': 2191.947265625}\n",
            "[Epoch 101/200] {'loss': tensor(4333.3779, grad_fn=<MseLossBackward0>), 'test_loss': 2197.4423828125}\n",
            "[Epoch 102/200] {'loss': tensor(4324.5210, grad_fn=<MseLossBackward0>), 'test_loss': 2202.947998046875}\n",
            "[Epoch 103/200] {'loss': tensor(4315.7427, grad_fn=<MseLossBackward0>), 'test_loss': 2208.4638671875}\n",
            "[Epoch 104/200] {'loss': tensor(4307.0420, grad_fn=<MseLossBackward0>), 'test_loss': 2213.988037109375}\n",
            "[Epoch 105/200] {'loss': tensor(4298.4175, grad_fn=<MseLossBackward0>), 'test_loss': 2219.521484375}\n",
            "[Epoch 106/200] {'loss': tensor(4289.8696, grad_fn=<MseLossBackward0>), 'test_loss': 2225.0625}\n",
            "[Epoch 107/200] {'loss': tensor(4281.3960, grad_fn=<MseLossBackward0>), 'test_loss': 2230.613037109375}\n",
            "[Epoch 108/200] {'loss': tensor(4272.9971, grad_fn=<MseLossBackward0>), 'test_loss': 2236.17041015625}\n",
            "[Epoch 109/200] {'loss': tensor(4264.6719, grad_fn=<MseLossBackward0>), 'test_loss': 2241.73583984375}\n",
            "[Epoch 110/200] {'loss': tensor(4256.4194, grad_fn=<MseLossBackward0>), 'test_loss': 2247.306884765625}\n",
            "[Epoch 111/200] {'loss': tensor(4248.2388, grad_fn=<MseLossBackward0>), 'test_loss': 2252.885009765625}\n",
            "[Epoch 112/200] {'loss': tensor(4240.1294, grad_fn=<MseLossBackward0>), 'test_loss': 2258.469482421875}\n",
            "[Epoch 113/200] {'loss': tensor(4232.0903, grad_fn=<MseLossBackward0>), 'test_loss': 2264.06005859375}\n",
            "[Epoch 114/200] {'loss': tensor(4224.1216, grad_fn=<MseLossBackward0>), 'test_loss': 2269.656982421875}\n",
            "[Epoch 115/200] {'loss': tensor(4216.2217, grad_fn=<MseLossBackward0>), 'test_loss': 2275.25732421875}\n",
            "[Epoch 116/200] {'loss': tensor(4208.3901, grad_fn=<MseLossBackward0>), 'test_loss': 2280.863525390625}\n",
            "[Epoch 117/200] {'loss': tensor(4200.6265, grad_fn=<MseLossBackward0>), 'test_loss': 2286.473876953125}\n",
            "[Epoch 118/200] {'loss': tensor(4192.9297, grad_fn=<MseLossBackward0>), 'test_loss': 2292.089111328125}\n",
            "[Epoch 119/200] {'loss': tensor(4185.2993, grad_fn=<MseLossBackward0>), 'test_loss': 2297.706787109375}\n",
            "[Epoch 120/200] {'loss': tensor(4177.7339, grad_fn=<MseLossBackward0>), 'test_loss': 2303.328369140625}\n",
            "[Epoch 121/200] {'loss': tensor(4170.2339, grad_fn=<MseLossBackward0>), 'test_loss': 2308.953369140625}\n",
            "[Epoch 122/200] {'loss': tensor(4162.7983, grad_fn=<MseLossBackward0>), 'test_loss': 2314.58154296875}\n",
            "[Epoch 123/200] {'loss': tensor(4155.4263, grad_fn=<MseLossBackward0>), 'test_loss': 2320.211181640625}\n",
            "[Epoch 124/200] {'loss': tensor(4148.1172, grad_fn=<MseLossBackward0>), 'test_loss': 2325.843505859375}\n",
            "[Epoch 125/200] {'loss': tensor(4140.8706, grad_fn=<MseLossBackward0>), 'test_loss': 2331.477783203125}\n",
            "[Epoch 126/200] {'loss': tensor(4133.6851, grad_fn=<MseLossBackward0>), 'test_loss': 2337.11279296875}\n",
            "[Epoch 127/200] {'loss': tensor(4126.5610, grad_fn=<MseLossBackward0>), 'test_loss': 2342.750732421875}\n",
            "[Epoch 128/200] {'loss': tensor(4119.4976, grad_fn=<MseLossBackward0>), 'test_loss': 2348.388427734375}\n",
            "[Epoch 129/200] {'loss': tensor(4112.4932, grad_fn=<MseLossBackward0>), 'test_loss': 2354.027587890625}\n",
            "[Epoch 130/200] {'loss': tensor(4105.5488, grad_fn=<MseLossBackward0>), 'test_loss': 2359.666259765625}\n",
            "[Epoch 131/200] {'loss': tensor(4098.6631, grad_fn=<MseLossBackward0>), 'test_loss': 2365.306396484375}\n",
            "[Epoch 132/200] {'loss': tensor(4091.8350, grad_fn=<MseLossBackward0>), 'test_loss': 2370.9453125}\n",
            "[Epoch 133/200] {'loss': tensor(4085.0645, grad_fn=<MseLossBackward0>), 'test_loss': 2376.584716796875}\n",
            "[Epoch 134/200] {'loss': tensor(4078.3499, grad_fn=<MseLossBackward0>), 'test_loss': 2382.223388671875}\n",
            "[Epoch 135/200] {'loss': tensor(4071.6929, grad_fn=<MseLossBackward0>), 'test_loss': 2387.8603515625}\n",
            "[Epoch 136/200] {'loss': tensor(4065.0906, grad_fn=<MseLossBackward0>), 'test_loss': 2393.49658203125}\n",
            "[Epoch 137/200] {'loss': tensor(4058.5435, grad_fn=<MseLossBackward0>), 'test_loss': 2399.131591796875}\n",
            "[Epoch 138/200] {'loss': tensor(4052.0513, grad_fn=<MseLossBackward0>), 'test_loss': 2404.765380859375}\n",
            "[Epoch 139/200] {'loss': tensor(4045.6133, grad_fn=<MseLossBackward0>), 'test_loss': 2410.397705078125}\n",
            "[Epoch 140/200] {'loss': tensor(4039.2285, grad_fn=<MseLossBackward0>), 'test_loss': 2416.02685546875}\n",
            "[Epoch 141/200] {'loss': tensor(4032.8960, grad_fn=<MseLossBackward0>), 'test_loss': 2421.654052734375}\n",
            "[Epoch 142/200] {'loss': tensor(4026.6169, grad_fn=<MseLossBackward0>), 'test_loss': 2427.279052734375}\n",
            "[Epoch 143/200] {'loss': tensor(4020.3884, grad_fn=<MseLossBackward0>), 'test_loss': 2432.9013671875}\n",
            "[Epoch 144/200] {'loss': tensor(4014.2122, grad_fn=<MseLossBackward0>), 'test_loss': 2438.52001953125}\n",
            "[Epoch 145/200] {'loss': tensor(4008.0859, grad_fn=<MseLossBackward0>), 'test_loss': 2444.13525390625}\n",
            "[Epoch 146/200] {'loss': tensor(4002.0107, grad_fn=<MseLossBackward0>), 'test_loss': 2449.747802734375}\n",
            "[Epoch 147/200] {'loss': tensor(3995.9856, grad_fn=<MseLossBackward0>), 'test_loss': 2455.35693359375}\n",
            "[Epoch 148/200] {'loss': tensor(3990.0085, grad_fn=<MseLossBackward0>), 'test_loss': 2460.962158203125}\n",
            "[Epoch 149/200] {'loss': tensor(3984.0811, grad_fn=<MseLossBackward0>), 'test_loss': 2466.563232421875}\n",
            "[Epoch 150/200] {'loss': tensor(3978.2021, grad_fn=<MseLossBackward0>), 'test_loss': 2472.15966796875}\n",
            "[Epoch 151/200] {'loss': tensor(3972.3701, grad_fn=<MseLossBackward0>), 'test_loss': 2477.752197265625}\n",
            "[Epoch 152/200] {'loss': tensor(3966.5857, grad_fn=<MseLossBackward0>), 'test_loss': 2483.34033203125}\n",
            "[Epoch 153/200] {'loss': tensor(3960.8484, grad_fn=<MseLossBackward0>), 'test_loss': 2488.9228515625}\n",
            "[Epoch 154/200] {'loss': tensor(3955.1570, grad_fn=<MseLossBackward0>), 'test_loss': 2494.50146484375}\n",
            "[Epoch 155/200] {'loss': tensor(3949.5117, grad_fn=<MseLossBackward0>), 'test_loss': 2500.07421875}\n",
            "[Epoch 156/200] {'loss': tensor(3943.9121, grad_fn=<MseLossBackward0>), 'test_loss': 2505.64208984375}\n",
            "[Epoch 157/200] {'loss': tensor(3938.3569, grad_fn=<MseLossBackward0>), 'test_loss': 2511.203369140625}\n",
            "[Epoch 158/200] {'loss': tensor(3932.8464, grad_fn=<MseLossBackward0>), 'test_loss': 2516.76025390625}\n",
            "[Epoch 159/200] {'loss': tensor(3927.3804, grad_fn=<MseLossBackward0>), 'test_loss': 2522.31103515625}\n",
            "[Epoch 160/200] {'loss': tensor(3921.9583, grad_fn=<MseLossBackward0>), 'test_loss': 2527.85498046875}\n",
            "[Epoch 161/200] {'loss': tensor(3916.5786, grad_fn=<MseLossBackward0>), 'test_loss': 2533.39404296875}\n",
            "[Epoch 162/200] {'loss': tensor(3911.2419, grad_fn=<MseLossBackward0>), 'test_loss': 2538.926513671875}\n",
            "[Epoch 163/200] {'loss': tensor(3905.9473, grad_fn=<MseLossBackward0>), 'test_loss': 2544.45166015625}\n",
            "[Epoch 164/200] {'loss': tensor(3900.6956, grad_fn=<MseLossBackward0>), 'test_loss': 2549.970458984375}\n",
            "[Epoch 165/200] {'loss': tensor(3895.4836, grad_fn=<MseLossBackward0>), 'test_loss': 2555.482421875}\n",
            "[Epoch 166/200] {'loss': tensor(3890.3145, grad_fn=<MseLossBackward0>), 'test_loss': 2560.98828125}\n",
            "[Epoch 167/200] {'loss': tensor(3885.1848, grad_fn=<MseLossBackward0>), 'test_loss': 2566.487060546875}\n",
            "[Epoch 168/200] {'loss': tensor(3880.0964, grad_fn=<MseLossBackward0>), 'test_loss': 2571.9775390625}\n",
            "[Epoch 169/200] {'loss': tensor(3875.0471, grad_fn=<MseLossBackward0>), 'test_loss': 2577.4609375}\n",
            "[Epoch 170/200] {'loss': tensor(3870.0378, grad_fn=<MseLossBackward0>), 'test_loss': 2582.936767578125}\n",
            "[Epoch 171/200] {'loss': tensor(3865.0669, grad_fn=<MseLossBackward0>), 'test_loss': 2588.406005859375}\n",
            "[Epoch 172/200] {'loss': tensor(3860.1353, grad_fn=<MseLossBackward0>), 'test_loss': 2593.8671875}\n",
            "[Epoch 173/200] {'loss': tensor(3855.2422, grad_fn=<MseLossBackward0>), 'test_loss': 2599.319580078125}\n",
            "[Epoch 174/200] {'loss': tensor(3850.3860, grad_fn=<MseLossBackward0>), 'test_loss': 2604.764404296875}\n",
            "[Epoch 175/200] {'loss': tensor(3845.5684, grad_fn=<MseLossBackward0>), 'test_loss': 2610.201171875}\n",
            "[Epoch 176/200] {'loss': tensor(3840.7876, grad_fn=<MseLossBackward0>), 'test_loss': 2615.629638671875}\n",
            "[Epoch 177/200] {'loss': tensor(3836.0439, grad_fn=<MseLossBackward0>), 'test_loss': 2621.05029296875}\n",
            "[Epoch 178/200] {'loss': tensor(3831.3359, grad_fn=<MseLossBackward0>), 'test_loss': 2626.461669921875}\n",
            "[Epoch 179/200] {'loss': tensor(3826.6650, grad_fn=<MseLossBackward0>), 'test_loss': 2631.864501953125}\n",
            "[Epoch 180/200] {'loss': tensor(3822.0291, grad_fn=<MseLossBackward0>), 'test_loss': 2637.2587890625}\n",
            "[Epoch 181/200] {'loss': tensor(3817.4287, grad_fn=<MseLossBackward0>), 'test_loss': 2642.644775390625}\n",
            "[Epoch 182/200] {'loss': tensor(3812.8633, grad_fn=<MseLossBackward0>), 'test_loss': 2648.021728515625}\n",
            "[Epoch 183/200] {'loss': tensor(3808.3325, grad_fn=<MseLossBackward0>), 'test_loss': 2653.39013671875}\n",
            "[Epoch 184/200] {'loss': tensor(3803.8367, grad_fn=<MseLossBackward0>), 'test_loss': 2658.74853515625}\n",
            "[Epoch 185/200] {'loss': tensor(3799.3743, grad_fn=<MseLossBackward0>), 'test_loss': 2664.09765625}\n",
            "[Epoch 186/200] {'loss': tensor(3794.9458, grad_fn=<MseLossBackward0>), 'test_loss': 2669.437744140625}\n",
            "[Epoch 187/200] {'loss': tensor(3790.5505, grad_fn=<MseLossBackward0>), 'test_loss': 2674.76904296875}\n",
            "[Epoch 188/200] {'loss': tensor(3786.1885, grad_fn=<MseLossBackward0>), 'test_loss': 2680.0908203125}\n",
            "[Epoch 189/200] {'loss': tensor(3781.8594, grad_fn=<MseLossBackward0>), 'test_loss': 2685.401611328125}\n",
            "[Epoch 190/200] {'loss': tensor(3777.5620, grad_fn=<MseLossBackward0>), 'test_loss': 2690.703369140625}\n",
            "[Epoch 191/200] {'loss': tensor(3773.2966, grad_fn=<MseLossBackward0>), 'test_loss': 2695.995361328125}\n",
            "[Epoch 192/200] {'loss': tensor(3769.0637, grad_fn=<MseLossBackward0>), 'test_loss': 2701.278076171875}\n",
            "[Epoch 193/200] {'loss': tensor(3764.8618, grad_fn=<MseLossBackward0>), 'test_loss': 2706.55078125}\n",
            "[Epoch 194/200] {'loss': tensor(3760.6917, grad_fn=<MseLossBackward0>), 'test_loss': 2711.81396484375}\n",
            "[Epoch 195/200] {'loss': tensor(3756.5513, grad_fn=<MseLossBackward0>), 'test_loss': 2717.0654296875}\n",
            "[Epoch 196/200] {'loss': tensor(3752.4419, grad_fn=<MseLossBackward0>), 'test_loss': 2722.307373046875}\n",
            "[Epoch 197/200] {'loss': tensor(3748.3633, grad_fn=<MseLossBackward0>), 'test_loss': 2727.539306640625}\n",
            "[Epoch 198/200] {'loss': tensor(3744.3137, grad_fn=<MseLossBackward0>), 'test_loss': 2732.76123046875}\n",
            "[Epoch 199/200] {'loss': tensor(3740.2947, grad_fn=<MseLossBackward0>), 'test_loss': 2737.972900390625}\n",
            "[Epoch 200/200] {'loss': tensor(3736.3044, grad_fn=<MseLossBackward0>), 'test_loss': 2743.1728515625}\n"
          ]
        }
      ],
      "source": [
        "torch_model = LinearRegression(X0.shape[-1], 1)\n",
        "torch_model.set_learning_rate(0.3)\n",
        "torch_model.train_test(\n",
        "    [[torch.Tensor(X0), torch.Tensor(Y0)]], \n",
        "    [[torch.Tensor(X1), torch.Tensor(Y1)]],\n",
        "    epochs=200\n",
        ");"
      ]
    },
    {
      "cell_type": "markdown",
      "metadata": {
        "id": "H63TERfyvZtS"
      },
      "source": [
        "## Shapes That Might Be Useful..."
      ]
    },
    {
      "cell_type": "markdown",
      "metadata": {
        "id": "LtwbP5tRbJky"
      },
      "source": [
        "Throughout the duration of this course, you might find it really helpful to check the shapes of each of your different tensors and outputs just to verify that everything is working as intended. Check the block below to see an example!"
      ]
    },
    {
      "cell_type": "code",
      "execution_count": null,
      "metadata": {
        "colab": {
          "base_uri": "https://localhost:8080/"
        },
        "id": "MBkTktWcD9dz",
        "outputId": "1d69002d-ec99-4a1d-a331-52f86df3cedd"
      },
      "outputs": [
        {
          "output_type": "stream",
          "name": "stdout",
          "text": [
            "> Prediction Shape: torch.Size([353, 1])\n",
            "> Weights    Shape: torch.Size([1, 10])\n",
            "> Bias       Shape: torch.Size([1])\n",
            "> Loss       Shape: torch.Size([])\n"
          ]
        }
      ],
      "source": [
        "y_true = torch.Tensor(Y0)\n",
        "y_pred = torch_model(torch.Tensor(X0))\n",
        "loss = torch_model.loss(y_true, y_pred)\n",
        "\n",
        "print(f\"\"\"\n",
        "> Prediction Shape: {y_pred.shape}\n",
        "> Weights    Shape: {list(torch_model.parameters())[0].shape}\n",
        "> Bias       Shape: {list(torch_model.parameters())[1].shape}\n",
        "> Loss       Shape: {loss.shape}\n",
        "\"\"\".strip())"
      ]
    },
    {
      "cell_type": "markdown",
      "metadata": {
        "id": "cu1pLK46fFqX"
      },
      "source": [
        "Next, let's start building up all the different parts of the basic PyTorch tools that we used in order to see what's under the hood."
      ]
    },
    {
      "cell_type": "markdown",
      "metadata": {
        "id": "0ZfozqWdLB2V"
      },
      "source": [
        "## PyTorch Complexity Assumptions"
      ]
    },
    {
      "cell_type": "markdown",
      "metadata": {
        "id": "oVv6iQios7-D"
      },
      "source": [
        "### Tensors\n",
        "- Tensors are responsible for maintaining their own gradients\n",
        "- Tensors hold on to `backward` functions to which they can pass a gradient into. These backwards functions are provided by the layers associated with those tensors. \n",
        "    - If a tensor is a terminal node, it will pass in an upstream gradient of `None`.\n",
        "    - If a tensor is a non-terminal node, it will pass the accumulated upstream gradient. \n",
        "    - `backward` functions as a linked list algorithm and crawls back the chain, computing the gradient for every tensor that it hits (as long as they require a gradient).\n",
        "- Since the tensors hold their own gradients, the optimizer can merely take the tensors' values, take their gradients, and then just optimize them.\n",
        "- However, because tensors are always keeping track of their gradients when `requires_grad` is set to `True`, we also want to add a way to stop tracking gradients.\n",
        "    - For instance, while evaluating the performance of our model, we want to make sure that the model doesn't learn anything from this evaluation phase.\n",
        "    - We can use the `no_grad` subclass to automatically handle the flipping of this `requires_grad` value. \n",
        "        - Every time we enter a `with Tensor.no_grad():` block, the code within `no_grad`'s `__enter__()` method will execute. \n",
        "        - Once we exit the same `with Tensor.no_grad():` block, `no_grad`'s `__exit()__` method will run."
      ]
    },
    {
      "cell_type": "code",
      "execution_count": null,
      "metadata": {
        "id": "5ZbMLm30y3tD"
      },
      "outputs": [],
      "source": [
        "class Tensor(np.ndarray):\n",
        "\n",
        "    '''\n",
        "    Subclassing numpy arrays is a bit weird:\n",
        "    https://numpy.org/doc/stable/user/basics.subclassing.html\n",
        "\n",
        "    Just assume that the attributes referred to in __new__/__array_finalize__ \n",
        "    will be accessible in a Tensor when a new Tensor object is created.  \n",
        "    '''\n",
        "\n",
        "    requires_grad = True  ## Class variable; accessible by Tensor.requires_grad\n",
        "\n",
        "    def __new__(cls, input_array):\n",
        "        obj = np.asarray(input_array).view(cls)\n",
        "        obj.backward = lambda x: None   ## Backward starts as None, gets assigned later\n",
        "        obj.grad = None                 ## Gradient starts as None, gets computed later\n",
        "        obj.requires_grad = True        ## By default, we'll want to compute gradient for new tensors\n",
        "        obj.to = lambda x: obj          ## We don't handle special device support (i.e. cpu vs gpu/cuda)\n",
        "        return obj\n",
        "\n",
        "    def __array_finalize__(self, obj):\n",
        "        if obj is None: return\n",
        "        self.backward       = getattr(obj, 'backward',      lambda x: None)\n",
        "        self.to             = getattr(obj, 'to',            lambda x: obj)\n",
        "        self.grad           = getattr(obj, 'grad',          None)\n",
        "        self.requires_grad  = getattr(obj, 'requires_grad', None)\n",
        "\n",
        "    class no_grad():\n",
        "\n",
        "        '''\n",
        "        Synergizes with Tensor: By entering the tensor with no_grad scope, \n",
        "        the Tensor.requires_grad singleton will swap to False. \n",
        "        '''\n",
        "        \n",
        "        def __enter__(self):\n",
        "            # When tape scope is entered, stop asking tensors to record gradients\n",
        "            Tensor.requires_grad = False\n",
        "            return self\n",
        "\n",
        "        def __exit__(self, exc_type, exc_val, exc_tb):\n",
        "            # When tape scope is exited, let Diffable start recording to self.operation\n",
        "            Tensor.requires_grad = True"
      ]
    },
    {
      "cell_type": "markdown",
      "metadata": {
        "id": "ovL7L6STvXCU"
      },
      "source": [
        "### Diffable\n",
        "\n",
        "Let's specify a \"Diffable\" object which will represent a module that can be differentiated. This class will make the following assumptions: \n",
        "- Gradients will need to flow through the input pathways in order to compute earlier gradients. \n",
        "    - Therefore, inputs will need an appropriate \"backward\"\n",
        "- Parameters will need to recieve gradients.\n",
        "- More specifically, if a `Diffable` object performs an operation on some input, then we know that the gradient from the output of the Diffable w.r.t. the inputs is the gradient of the `Diffable`'s operations w.r.t. its inputs.\n",
        "  - Thus, a `Diffable`'s `input_gradients()` function should return a tuple with each of the partial derivatives of the operations performed in the forward pass."
      ]
    },
    {
      "cell_type": "code",
      "execution_count": null,
      "metadata": {
        "id": "9v68mc_U1ymJ"
      },
      "outputs": [],
      "source": [
        "from abc import ABC, abstractmethod  # # For abstract method support\n",
        "\n",
        "class Diffable(ABC):\n",
        "    \"\"\"\n",
        "        We use these to represent differentiable layers which we can compute gradients for.\n",
        "    \"\"\"\n",
        "\n",
        "    def to(self, device):\n",
        "        return self         # Just there to ignore device setting calls\n",
        "    \n",
        "    def __call__(self, *args, **kwargs):\n",
        "        \n",
        "        ## The call method keeps track of method inputs and outputs\n",
        "        self.argnames   = self.forward.__code__.co_varnames[1:]\n",
        "        named_args      = {self.argnames[i] : args[i] for i in range(len(args))}\n",
        "        self.input_dict = {**named_args, **kwargs}\n",
        "        self.inputs     = [self.input_dict[arg] for arg in self.argnames if arg in self.input_dict.keys()]\n",
        "        self.outputs    = self.forward(*args, **kwargs)\n",
        "\n",
        "        ## Make sure outputs are tensors and tie back to this layer\n",
        "        list_outs = isinstance(self.outputs, list) or isinstance(self.outputs, tuple)\n",
        "        if not list_outs:\n",
        "            self.outputs = [self.outputs]\n",
        "        self.outputs = [Tensor(out) for out in self.outputs]\n",
        "        for out in self.outputs: \n",
        "            out.backward = self.backward\n",
        "\n",
        "        # print(self.__class__.__name__.ljust(24), [v.shape for v in self.inputs], '->', [v.shape for v in self.outputs])\n",
        "            \n",
        "        ## And then finally, it returns the output, thereby wrapping the forward\n",
        "        return self.outputs if list_outs else self.outputs[0]\n",
        "\n",
        "    def parameters(self):\n",
        "        \"\"\"Returns a list of parameters\"\"\"\n",
        "        return ()\n",
        "\n",
        "    @abstractmethod\n",
        "    def forward(self, x):\n",
        "        \"\"\"Pass inputs through function. Can store inputs and outputs as instance variables\"\"\"\n",
        "        pass\n",
        "\n",
        "    @abstractmethod\n",
        "    def input_gradients(self):\n",
        "        \"\"\"Returns local gradient of layer output w.r.t. input\"\"\"\n",
        "        pass\n",
        "\n",
        "    def weight_gradients(self):\n",
        "        \"\"\"Returns local gradient of layer output w.r.t. weights\"\"\"\n",
        "        return []\n",
        "    \n",
        "    @abstractmethod\n",
        "    def backward(self, grad=np.array([[1]])):\n",
        "        \"\"\"\n",
        "        Propagate upstream gradient backwards by composing with local gradient\n",
        "        \n",
        "        SCAFFOLD: \n",
        "\n",
        "        Differentiate with respect to layer parameters:\n",
        "            For every param-gradient pair\n",
        "            - If all Tensors or this tensor do not require gradients, then skip\n",
        "            - Otherwise, compose upstream and local gradient\n",
        "        \n",
        "        Differentiate with respect to layer input:\n",
        "            For every input-gradient pair\n",
        "            - If all Tensors or this tensor do not require gradients, then skip\n",
        "            - Otherwise, compose upstream and local gradient\n",
        "\n",
        "        Usefulseful print boilerplate...: \n",
        "            # print(f'Diffing w.r.t. \"{k}\": local = {g.shape} and upstream = {grad.shape}')\n",
        "        \"\"\"\n",
        "        pass"
      ]
    },
    {
      "cell_type": "markdown",
      "metadata": {
        "id": "2n50HNq3ZuCO"
      },
      "source": [
        "### Loss\n",
        "**[TODO]:** Implement the forward pass in `forward()`.\n",
        "- The forward pass should just give the mean squared error between `y_pred` and `y_true`.\n",
        "\n",
        "**[TODO]:** Implement the backward pass in `backward()`.\n",
        "- This should take advantage of the layer inputs as well as the gradients computed with respect to them.\n",
        "- Feel free to only work with the input gradients, since this loss layer does not have any parameters.\n",
        "\n",
        "**[TODO]:** Calculate and return `input_gradients()`:\n",
        "- You want to calculate the gradients which flow to the inputs: `y_pred` and `y_true`\n",
        "- Note that we don't want to \"train\" `y_true`, so you can just return 0 for the grads for `y_true`\n",
        "- Return the partial derivative of mean squared error w.r.t. `y_pred`, and 0.\n",
        "\n",
        "Note that we don't need to implement `weight_gradients()` here because MSELoss doesn't have weights!"
      ]
    },
    {
      "cell_type": "code",
      "execution_count": null,
      "metadata": {
        "id": "1GG1E4VaC9hs"
      },
      "outputs": [],
      "source": [
        "class MSELoss(Diffable):\n",
        "\n",
        "    \"\"\"\n",
        "        Calculates mean squared error loss and gradient w.r.t. inputs.\n",
        "        Subclasses Diffable.\n",
        "    \"\"\"\n",
        "\n",
        "    def forward(self, y_pred, y_true):\n",
        "        \"\"\"Mean squared error forward pass!\"\"\"\n",
        "        MSE = np.square(np.subtract(y_true, y_pred)).mean()\n",
        "        return MSE\n",
        "\n",
        "    def input_gradients(self):\n",
        "        \"\"\"Mean squared error backpropagation!\"\"\"\n",
        "        # TODO: Compute and return the gradients\n",
        "        y_pred = self.input_dict['y_pred']\n",
        "        y_true = self.input_dict['y_true']\n",
        "      \n",
        "        #add tuple lsit of 0\n",
        "        BP = (-2 * (y_true - y_pred)) / len(y_pred)\n",
        "        return BP,np.array([0])\n",
        "    def backward(self, grad=np.array([[1]])):\n",
        "        \"\"\"Mean squared error backpropagation!\"\"\"        \n",
        "        ## TODO: Differentiate with respect to layer inputs        \n",
        "        ## For each input value and input gradient\n",
        "            ## Compose the upstream gradient with this input's gradient\n",
        "            ## Set the gradient of the tensor to the composed gradient as necessary\n",
        "            ## Pass the composed gradient backward through structure\n",
        "        for x, g in zip(self.inputs, self.input_gradients()):\n",
        "          if Tensor.requires_grad:\n",
        "            dot = np.matmul(g, grad)\n",
        "            if x.requires_grad:\n",
        "              x.grad = dot\n",
        "            x.backward(dot)\n"
      ]
    },
    {
      "cell_type": "markdown",
      "metadata": {
        "id": "2CHqCz0nKsGB"
      },
      "source": [
        "And here are some sanity checks you can run to make sure that your code is working as intended. In the first check, the outputs should match. In the second, they should be within the specified range."
      ]
    },
    {
      "cell_type": "code",
      "execution_count": null,
      "metadata": {
        "id": "45Y7ngPUKehB",
        "colab": {
          "base_uri": "https://localhost:8080/"
        },
        "outputId": "cb517a63-a80e-41e6-c619-cd9d8321e60e"
      },
      "outputs": [
        {
          "output_type": "stream",
          "name": "stdout",
          "text": [
            "tensor(3732.3435, grad_fn=<MseLossBackward0>)\n",
            "3732.3435512554033\n"
          ]
        }
      ],
      "source": [
        "class con: \n",
        "    ## Control set using default PyTorch\n",
        "    ytrue = torch.Tensor(Y0)\n",
        "    ypred = torch_model(torch.Tensor(X0))\n",
        "    loss_fn = nn.MSELoss()\n",
        "\n",
        "class exp: \n",
        "    ## Experimental set using your own implementation\n",
        "    ytrue = Tensor(Y0)\n",
        "    ypred = Tensor(con.ypred.detach().numpy())\n",
        "    loss_fn = MSELoss()\n",
        "\n",
        "def ypred_to_loss(ns):\n",
        "    ## Compute loss using the control and experimental namespaces\n",
        "    ns.loss = ns.loss_fn(ns.ypred, ns.ytrue)\n",
        "    return ns.loss\n",
        "\n",
        "## Sanity Check 1: Make sure that the forward pass is the same (i.e. your implementation matches the control)\n",
        "print(ypred_to_loss(con))\n",
        "print(ypred_to_loss(exp))"
      ]
    },
    {
      "cell_type": "code",
      "execution_count": null,
      "metadata": {
        "id": "P9tUAGJkg6I9",
        "colab": {
          "base_uri": "https://localhost:8080/"
        },
        "outputId": "1e5f76a0-e07b-4e0a-c2dc-b39318d21e48"
      },
      "outputs": [
        {
          "output_type": "stream",
          "name": "stdout",
          "text": [
            "Maximum difference 3.2757226819946084e-08 should be less than 0.00001\n"
          ]
        }
      ],
      "source": [
        "## Sanity Check 2: Make sure that the backwards pass is the same\n",
        "\n",
        "con.ypred = con.ypred.detach()\n",
        "con.ypred.requires_grad = True\n",
        "#print(\"Before running backwards:\\n\", con.ypred.grad)\n",
        "ypred_to_loss(con)\n",
        "con.loss.backward()\n",
        "#print(\"After running backwards:\\n\", con.ypred.grad)\n",
        "\n",
        "exp.ypred.grad = None\n",
        "#print(\"Before running backwards:\\n\", np.round(exp.ypred.grad, 4))\n",
        "ypred_to_loss(exp)\n",
        "exp.loss.backward()\n",
        "#print(\"After running backwards:\\n\", np.round(exp.ypred.grad, 4))\n",
        "\n",
        "max_diff = np.max(exp.ypred.grad - con.ypred.grad.detach().numpy())\n",
        "print(f\"Maximum difference {max_diff} should be less than 0.00001\")"
      ]
    },
    {
      "cell_type": "markdown",
      "metadata": {
        "id": "inej4Q37gqN8"
      },
      "source": [
        "### Linear Layer\n",
        "Next, a linear layer!\n",
        "\n",
        "**[TODO]:** Implement the `forward()` pass of a linear layer. \n",
        "\n",
        "**[TODO]:** Calculate (manually) the weight gradients.\n",
        "- Manually differentiate the Dense layer with respect to weights and biases.\n",
        "- Return weight gradient, then bias gradient in that order\n",
        "- HINT: How is differentiating with matrix variables similar to and different from normal differentiation?\n",
        "\n",
        "**[TODO]:** Initalize weights and biases in `_initialize_weight()`.\n",
        "- In a linear layer, we have 2 parameters: weights and biases. \n",
        "- Return two NumPy arrays of the correct shapes according according to the function's arguments. \n",
        "- Return weights and biases, in that order.\n",
        "\n",
        "**[TODO]:** Implement the backward function.\n",
        "- Feel free to only work with the weight gradients, since we do not yet need to support multilayered networks.\n"
      ]
    },
    {
      "cell_type": "code",
      "execution_count": null,
      "metadata": {
        "id": "50FnJezypdpt",
        "colab": {
          "base_uri": "https://localhost:8080/"
        },
        "outputId": "55d2a427-9c58-4712-f877-28f7dc5cf47e"
      },
      "outputs": [
        {
          "output_type": "stream",
          "name": "stdout",
          "text": [
            "Maximum difference 1.2377434216448435e-08 should be less than 0.00001\n",
            "\n",
            "Losses: Control 28706.373046875 vs Experimental 28706.37402992139\n",
            "\n",
            "Control Params:\n",
            "Parameter containing:\n",
            "tensor([[-0.3054,  0.1902,  0.1699,  0.1783, -0.2814, -0.2335, -0.1357,  0.0882,\n",
            "          0.1386, -0.2697]], requires_grad=True)\n",
            "Parameter containing:\n",
            "tensor([0.1411], requires_grad=True)\n",
            "\n",
            "Experimental Params:\n",
            "[[-0.30535048  0.19019367  0.16988663  0.17825803 -0.28137442 -0.23346654\n",
            "  -0.1356809   0.08815816  0.13859876 -0.26967588]]\n",
            "[0.14114358]\n"
          ]
        }
      ],
      "source": [
        "import torch\n",
        "import torch.nn as nn\n",
        "\n",
        "class Linear(Diffable):\n",
        "\n",
        "    \"\"\"\n",
        "        Standard linear/dense layer.\n",
        "        Subclasses Diffable.\n",
        "    \"\"\"\n",
        "\n",
        "    def __init__(self, in_features, out_features, device=None, dtype=None):\n",
        "        self.w, self.b = self.__class__._initialize_weight(in_features, out_features)\n",
        "    \n",
        "    def parameters(self):\n",
        "        return self.w, self.b\n",
        "\n",
        "    def forward(self, inputs):\n",
        "        \"\"\"Forward pass for a dense layer! Refer to lecture slides for how this is computed.\"\"\"\n",
        "        # TODO: implement the forward pass and return the outputs\n",
        "        re = self.w.reshape(10,1)\n",
        "\n",
        "        #fpass = np.dot(inputs, re) + self.b\n",
        "        fpass = inputs @ self.w.T + self.b\n",
        "        return fpass\n",
        "        \n",
        "\n",
        "    def weight_gradients(self):\n",
        "        \"\"\"Calculating the gradients of the weights and biases!\"\"\"\n",
        "        # TODO: Implement calculation of gradients\n",
        "        wgrads = self.inputs[0]\n",
        "        bgrads = np.ones((np.shape(wgrads)[0],1))\n",
        "        return (wgrads, bgrads)\n",
        "\n",
        "    def input_gradients(self):\n",
        "        \"\"\"Calculate the gradients of the inputs! (Not necessary for HW1)\"\"\"\n",
        "        return (self.w,)\n",
        "\n",
        "    @staticmethod\n",
        "    def _initialize_weight(input_size, output_size):\n",
        "        \"\"\"\n",
        "        Initializes the values of the weights and biases. You can assume that \n",
        "        bias is a zero-vector and weight is normally-distributed.\n",
        "        \"\"\"\n",
        "        ## TODO: Implement default assumption: zero-init for bias, normal distribution for weights\n",
        "        ## Must return tensors for tracking purposes.\n",
        "        w = np.random.normal((10,1))\n",
        "        b = np.zeros((output_size, 1))\n",
        "        return Tensor(w), Tensor(b)\n",
        "\n",
        "\n",
        "    def backward(self, grad=np.array([[1]])):\n",
        "        ## For every weight/bias and weight/bias gradient\n",
        "            ## Compose the upstream gradient with this weight's/bias's gradient\n",
        "            ## Set the gradient of the tensor to the composed gradient if necessary\n",
        "            ## Backpropagate the composed gradient through the structure\n",
        "        \n",
        "        for x, g in zip(self.parameters(), self.weight_gradients()):\n",
        "          if Tensor.requires_grad:\n",
        "            print(g.shape)\n",
        "            print(grad.shape)\n",
        "            dot = grad.T@g\n",
        "            if x.requires_grad:\n",
        "              x.grad = dot\n",
        "            x.backward(dot)\n",
        "\n",
        "class con:\n",
        "    ## Control set using regular pytorch\n",
        "    X0 = torch.Tensor(X0)\n",
        "    Y0 = torch.Tensor(Y0)\n",
        "    X0.requires_grad = True\n",
        "    Y0.requires_grad = True\n",
        "    dense = nn.Linear(10, 1)\n",
        "    loss_fn = nn.MSELoss()\n",
        "\n",
        "class exp:\n",
        "    ## Experimental set using your own implementation\n",
        "    X0 = Tensor(X0)\n",
        "    Y0 = Tensor(Y0)\n",
        "    dense = Linear(10, 1)\n",
        "    dense.w, dense.b = [Tensor(p.detach().numpy()) for p in con.dense.parameters()]\n",
        "    loss_fn = MSELoss()\n",
        "\n",
        "def x_to_loss(ns):\n",
        "    ns.ypred = ns.dense(ns.X0)\n",
        "    ns.loss  = ns.loss_fn(ns.ypred, ns.Y0)\n",
        "    return ns.loss\n",
        "\n",
        "x_to_loss(con)\n",
        "x_to_loss(exp)\n",
        "\n",
        "## Sanity Check 1: Make sure that the forward pass is the same\n",
        "#print(con.ypred)\n",
        "#print(exp.ypred)\n",
        "\n",
        "print(f\"Maximum difference {np.max(con.ypred.detach().numpy() - exp.ypred)} should be less than 0.00001\\n\")\n",
        "\n",
        "print(f\"Losses: Control {con.loss} vs Experimental {exp.loss}\")\n",
        "\n",
        "print('\\nControl Params:',      *list(con.dense.parameters()), sep='\\n')\n",
        "print('\\nExperimental Params:', *list(exp.dense.parameters()), sep='\\n')"
      ]
    },
    {
      "cell_type": "code",
      "execution_count": null,
      "metadata": {
        "id": "-v6oUfSJxidG",
        "colab": {
          "base_uri": "https://localhost:8080/"
        },
        "outputId": "20feb784-eecb-49e3-cf39-b144e641eafd"
      },
      "outputs": [
        {
          "output_type": "stream",
          "name": "stdout",
          "text": [
            "After running backwards on weights:\n",
            "[tensor([[-1.5566, -0.0822, -3.9126, -3.1339, -1.6624, -1.4902,  2.7265, -3.2822,\n",
            "         -3.9180, -2.6460]]), tensor([-302.6759])]\n",
            "(353, 10)\n",
            "(353, 1)\n",
            "(353, 1)\n",
            "(353, 1)\n",
            "\n",
            "****************************************************************************************************\n",
            "\n",
            "After running backwards on weights:\n",
            "[Tensor([[-1.55658565, -0.08215395, -3.9125909 , -3.13387055, -1.66243002,\n",
            "         -1.49020053,  2.72645639, -3.28216232, -3.91803767, -2.64603743]]), Tensor([[-302.67593567]])]\n"
          ]
        }
      ],
      "source": [
        "## Sanity Check 2: Make sure that the backwards pass is the same\n",
        "\n",
        "con.X0 = con.X0.detach()\n",
        "con.Y0 = con.Y0.detach()\n",
        "for p in con.dense.parameters():\n",
        "    if p.grad is None: continue\n",
        "    p.grad.detach_()\n",
        "    p.grad = None\n",
        "\n",
        "x_to_loss(con).backward()\n",
        "print(\"After running backwards on weights:\")  \n",
        "print([p.grad for p in con.dense.parameters()])\n",
        "\n",
        "for p in exp.dense.parameters(): p.grad = None\n",
        "x_to_loss(exp).backward()\n",
        "\n",
        "print(\"\\n\" + \"*\" * 100 + \"\\n\")\n",
        "print(\"After running backwards on weights:\")  \n",
        "print([p.grad for p in exp.dense.parameters()])"
      ]
    },
    {
      "cell_type": "markdown",
      "metadata": {
        "id": "CQGhTAMgFe_i"
      },
      "source": [
        "## Optimizing With The Gradients\n",
        "\n",
        "To use the gradients we calculated previously, we need an optimizer. The optimizer allows us to update our weights and bias. A simple approach could be to simply subtract the gradient from the weights and bias. In doing so, we follow the gradient in its opposite direction, minimizing loss. This is what is called gradient descent. \n",
        "\n",
        "However, simply subtracting the gradients from the weights could result in the weights changing wildly between each sample, making training longer. To prevent this, we use a learning rate. The learning rate is a hyperparameter that specifies how much a single step updates weights. A smaller learning rate means that the gradients have less of an impact on the weights, and vice versa.\n",
        "\n",
        "Of course, this is just one (simple) approach. In a later lab, you'll learn about other optimizers, such as Adam and RMSProp.\n",
        "\n",
        "**[TODO]:** Implement stochastic gradient descent for each parameter using the learning rate"
      ]
    },
    {
      "cell_type": "code",
      "execution_count": null,
      "metadata": {
        "id": "J5s6o4_WGXhe"
      },
      "outputs": [],
      "source": [
        "class SGD: \n",
        "    \"\"\"\n",
        "        Performs stochastic gradident descent with the specified learning rate.\n",
        "    \"\"\"\n",
        "    def __init__(self, params, lr, *args, **kwargs):\n",
        "        self.params = params\n",
        "        self.lr = lr\n",
        "    \n",
        "    def zero_grad(self):\n",
        "        \"\"\"\n",
        "            Reset the gradients.\n",
        "        \"\"\"\n",
        "        pass\n",
        "            \n",
        "    def step(self):\n",
        "        \"\"\"\n",
        "            Update paramaters by subtracting the gradient multiplied by the learning rate.\n",
        "        \"\"\"\n",
        "        ## TODO: Implement stochastic grad descent for each parameter\n",
        "\n",
        "        for p in self.params:\n",
        "          p = p - (self.lr * p.grad)\n"
      ]
    },
    {
      "cell_type": "markdown",
      "metadata": {
        "id": "p9m63xegnLnj"
      },
      "source": [
        "Below, you'll use your new implementations to optimize for linear regression manually. FakeTorchModule will also be provided to make some of the mimicking process easier. \n",
        "\n",
        "**[TODO]:** Complete the model and compare this model's performance to the previous `LinearRegression` model -- they should have a similar loss after training."
      ]
    },
    {
      "cell_type": "code",
      "execution_count": null,
      "metadata": {
        "id": "M6-a0DfvFlnN",
        "colab": {
          "base_uri": "https://localhost:8080/",
          "height": 389
        },
        "outputId": "9283c40e-e0ae-4596-8c28-919215a2e22d"
      },
      "outputs": [
        {
          "output_type": "error",
          "ename": "AttributeError",
          "evalue": "ignored",
          "traceback": [
            "\u001b[0;31m---------------------------------------------------------------------------\u001b[0m",
            "\u001b[0;31mAttributeError\u001b[0m                            Traceback (most recent call last)",
            "\u001b[0;32m<ipython-input-18-8bc524902c0e>\u001b[0m in \u001b[0;36m<module>\u001b[0;34m\u001b[0m\n\u001b[1;32m     62\u001b[0m \u001b[0mmodel\u001b[0m \u001b[0;34m=\u001b[0m \u001b[0mManualLinearRegression\u001b[0m\u001b[0;34m(\u001b[0m\u001b[0;36m10\u001b[0m\u001b[0;34m,\u001b[0m \u001b[0;36m1\u001b[0m\u001b[0;34m)\u001b[0m\u001b[0;34m\u001b[0m\u001b[0;34m\u001b[0m\u001b[0m\n\u001b[1;32m     63\u001b[0m \u001b[0mmodel\u001b[0m\u001b[0;34m.\u001b[0m\u001b[0mset_learning_rate\u001b[0m\u001b[0;34m(\u001b[0m\u001b[0;36m0.2\u001b[0m\u001b[0;34m)\u001b[0m\u001b[0;34m\u001b[0m\u001b[0;34m\u001b[0m\u001b[0m\n\u001b[0;32m---> 64\u001b[0;31m model.train_test(\n\u001b[0m\u001b[1;32m     65\u001b[0m     \u001b[0;34m[\u001b[0m\u001b[0;34m[\u001b[0m\u001b[0mTensor\u001b[0m\u001b[0;34m(\u001b[0m\u001b[0mX0\u001b[0m\u001b[0;34m)\u001b[0m\u001b[0;34m,\u001b[0m \u001b[0mTensor\u001b[0m\u001b[0;34m(\u001b[0m\u001b[0mY0\u001b[0m\u001b[0;34m)\u001b[0m\u001b[0;34m]\u001b[0m\u001b[0;34m]\u001b[0m\u001b[0;34m,\u001b[0m\u001b[0;34m\u001b[0m\u001b[0;34m\u001b[0m\u001b[0m\n\u001b[1;32m     66\u001b[0m     \u001b[0;34m[\u001b[0m\u001b[0;34m[\u001b[0m\u001b[0mTensor\u001b[0m\u001b[0;34m(\u001b[0m\u001b[0mX1\u001b[0m\u001b[0;34m)\u001b[0m\u001b[0;34m,\u001b[0m \u001b[0mTensor\u001b[0m\u001b[0;34m(\u001b[0m\u001b[0mY1\u001b[0m\u001b[0;34m)\u001b[0m\u001b[0;34m]\u001b[0m\u001b[0;34m]\u001b[0m\u001b[0;34m,\u001b[0m\u001b[0;34m\u001b[0m\u001b[0;34m\u001b[0m\u001b[0m\n",
            "\u001b[0;32m<ipython-input-5-59d88933ad74>\u001b[0m in \u001b[0;36mtrain_test\u001b[0;34m(self, train_data, test_data, epochs)\u001b[0m\n\u001b[1;32m     45\u001b[0m         \u001b[0mall_stats\u001b[0m \u001b[0;34m=\u001b[0m \u001b[0;34m[\u001b[0m\u001b[0;34m]\u001b[0m\u001b[0;34m\u001b[0m\u001b[0;34m\u001b[0m\u001b[0m\n\u001b[1;32m     46\u001b[0m         \u001b[0;32mfor\u001b[0m \u001b[0mepoch\u001b[0m \u001b[0;32min\u001b[0m \u001b[0mrange\u001b[0m\u001b[0;34m(\u001b[0m\u001b[0mepochs\u001b[0m\u001b[0;34m)\u001b[0m\u001b[0;34m:\u001b[0m\u001b[0;34m\u001b[0m\u001b[0;34m\u001b[0m\u001b[0m\n\u001b[0;32m---> 47\u001b[0;31m             \u001b[0mtrain_stats\u001b[0m \u001b[0;34m=\u001b[0m \u001b[0mself\u001b[0m\u001b[0;34m.\u001b[0m\u001b[0mfit\u001b[0m\u001b[0;34m(\u001b[0m\u001b[0mtrain_data\u001b[0m\u001b[0;34m)\u001b[0m\u001b[0;34m\u001b[0m\u001b[0;34m\u001b[0m\u001b[0m\n\u001b[0m\u001b[1;32m     48\u001b[0m             \u001b[0mtest_stats\u001b[0m \u001b[0;34m=\u001b[0m \u001b[0mself\u001b[0m\u001b[0;34m.\u001b[0m\u001b[0mevaluate\u001b[0m\u001b[0;34m(\u001b[0m\u001b[0mtest_data\u001b[0m\u001b[0;34m)\u001b[0m\u001b[0;34m\u001b[0m\u001b[0;34m\u001b[0m\u001b[0m\n\u001b[1;32m     49\u001b[0m             \u001b[0mall_stats\u001b[0m \u001b[0;34m+=\u001b[0m \u001b[0;34m[\u001b[0m\u001b[0;34m{\u001b[0m\u001b[0;34m**\u001b[0m\u001b[0mtrain_stats\u001b[0m\u001b[0;34m,\u001b[0m \u001b[0;34m**\u001b[0m\u001b[0mtest_stats\u001b[0m\u001b[0;34m}\u001b[0m\u001b[0;34m]\u001b[0m\u001b[0;34m\u001b[0m\u001b[0;34m\u001b[0m\u001b[0m\n",
            "\u001b[0;32m<ipython-input-5-59d88933ad74>\u001b[0m in \u001b[0;36mfit\u001b[0;34m(self, data)\u001b[0m\n\u001b[1;32m     12\u001b[0m             \u001b[0mtarget\u001b[0m \u001b[0;34m=\u001b[0m \u001b[0mtarget\u001b[0m\u001b[0;34m.\u001b[0m\u001b[0mto\u001b[0m\u001b[0;34m(\u001b[0m\u001b[0mself\u001b[0m\u001b[0;34m.\u001b[0m\u001b[0mdevice\u001b[0m\u001b[0;34m)\u001b[0m\u001b[0;34m\u001b[0m\u001b[0;34m\u001b[0m\u001b[0m\n\u001b[1;32m     13\u001b[0m             \u001b[0;31m## Erase the gradient history\u001b[0m\u001b[0;34m\u001b[0m\u001b[0;34m\u001b[0m\u001b[0;34m\u001b[0m\u001b[0m\n\u001b[0;32m---> 14\u001b[0;31m             \u001b[0mself\u001b[0m\u001b[0;34m.\u001b[0m\u001b[0moptimizer\u001b[0m\u001b[0;34m.\u001b[0m\u001b[0mzero_grad\u001b[0m\u001b[0;34m(\u001b[0m\u001b[0;34m)\u001b[0m\u001b[0;34m\u001b[0m\u001b[0;34m\u001b[0m\u001b[0m\n\u001b[0m\u001b[1;32m     15\u001b[0m             \u001b[0;31m## Do a forward pass on the model\u001b[0m\u001b[0;34m\u001b[0m\u001b[0;34m\u001b[0m\u001b[0;34m\u001b[0m\u001b[0m\n\u001b[1;32m     16\u001b[0m             \u001b[0moutput\u001b[0m \u001b[0;34m=\u001b[0m \u001b[0mself\u001b[0m\u001b[0;34m(\u001b[0m\u001b[0minputs\u001b[0m\u001b[0;34m)\u001b[0m\u001b[0;34m\u001b[0m\u001b[0;34m\u001b[0m\u001b[0m\n",
            "\u001b[0;31mAttributeError\u001b[0m: 'ManualLinearRegression' object has no attribute 'optimizer'"
          ]
        }
      ],
      "source": [
        "import torch\n",
        "import torch.nn as nn\n",
        "\n",
        "class FakeTorchModule:\n",
        "    \"\"\"\n",
        "        Needed so that we can do manual linear regression.\n",
        "    \"\"\"\n",
        "\n",
        "    def __init__(self):\n",
        "        self.device = \"\"\n",
        "\n",
        "    def __call__(self, *args, **kwargs):\n",
        "        return self.forward(*args, **kwargs)\n",
        "\n",
        "    def to(self, device):\n",
        "        return self\n",
        "\n",
        "    def parameters(self):\n",
        "        params = []\n",
        "        for k,v in self.__dict__.items():\n",
        "            params += getattr(v, 'parameters', lambda: [])()\n",
        "        return params\n",
        "\n",
        "    def train(self):\n",
        "        for p in self.parameters():\n",
        "            p.requires_grad = getattr(p, 'required_grad', p.requires_grad)\n",
        "    \n",
        "    def eval(self):\n",
        "        for p in self.parameters():\n",
        "            p.required_grad = p.requires_grad\n",
        "            p.requires_grad = False\n",
        "\n",
        "class ManualRegression(FakeTorchModule):\n",
        "    \"\"\"\n",
        "        Allows us to use our custom Linear layer and SGD optimizer.\n",
        "        Subclasses FakeTorchModule\n",
        "    \"\"\"\n",
        "\n",
        "    def __init__(self, input_dims, output_dims):\n",
        "        super().__init__()\n",
        "        ## TODO: Incorporate your custom components in the initialization pipeline. \n",
        "        self.set_learning_rate()\n",
        "\n",
        "    def set_learning_rate(self, learning_rate=0.001):\n",
        "        ## TODO: Use your new SGD component and make changes as appropriate.\n",
        "        pass\n",
        "\n",
        "    def forward(self, x):\n",
        "        ## TODO: Implement the forward function as appropriate. Make changes as necessary\n",
        "        return x\n",
        "\n",
        "class TrainTest2(TrainTest):\n",
        "    # no_grad = torch.no_grad\n",
        "    no_grad = Tensor.no_grad\n",
        "\n",
        "class ManualLinearRegression(ManualRegression, TrainTest2):\n",
        "    def __init__(self, input_dims, output_dims):\n",
        "        super().__init__(input_dims, output_dims)\n",
        "        ## TODO: Implement the subclass as appropriate with your own implementations\n",
        "\n",
        "## Train the manual linear regression model\n",
        "model = ManualLinearRegression(10, 1)\n",
        "model.set_learning_rate(0.2)\n",
        "model.train_test(\n",
        "    [[Tensor(X0), Tensor(Y0)]], \n",
        "    [[Tensor(X1), Tensor(Y1)]],\n",
        "    epochs=200\n",
        ");\n",
        "## TODO: Compare this model's performance to the first linear regression model -- they should be similar"
      ]
    },
    {
      "cell_type": "markdown",
      "metadata": {
        "id": "AhxMFrlPOX2J"
      },
      "source": [
        "-----"
      ]
    },
    {
      "cell_type": "markdown",
      "metadata": {
        "id": "v6DGrd50k0J5"
      },
      "source": [
        "## Wrapping Up\n",
        "\n",
        "Congratulations, you've finished this assignment! You should now have a better understand of linear regression, loss functions, and optimizers/gradient descent. This assignment provides the foundation for Homework 2, so feel free to come back or read it over again to get a solid understanding.\n",
        "\n",
        "Be sure to submit your finished notebook (follow the guidelines on the handout)."
      ]
    }
  ],
  "metadata": {
    "colab": {
      "provenance": [],
      "toc_visible": true,
      "include_colab_link": true
    },
    "kernelspec": {
      "display_name": "Python 3.9.7 64-bit",
      "language": "python",
      "name": "python3"
    },
    "language_info": {
      "codemirror_mode": {
        "name": "ipython",
        "version": 3
      },
      "file_extension": ".py",
      "mimetype": "text/x-python",
      "name": "python",
      "nbconvert_exporter": "python",
      "pygments_lexer": "ipython3",
      "version": "3.9.7"
    },
    "vscode": {
      "interpreter": {
        "hash": "397704579725e15f5c7cb49fe5f0341eb7531c82d19f2c29d197e8b64ab5776b"
      }
    }
  },
  "nbformat": 4,
  "nbformat_minor": 0
}